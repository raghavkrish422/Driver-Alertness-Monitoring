{
 "cells": [
  {
   "cell_type": "code",
   "execution_count": 4,
   "id": "ee81f243",
   "metadata": {},
   "outputs": [],
   "source": [
    "import numpy as np\n",
    "import cv2\n",
    "import os\n",
    "\n",
    "from keras.preprocessing.image import ImageDataGenerator\n",
    "from tensorflow.keras.utils import array_to_img, img_to_array, load_img"
   ]
  },
  {
   "cell_type": "code",
   "execution_count": 5,
   "id": "4e6d74a6",
   "metadata": {},
   "outputs": [],
   "source": [
    "directory = 'train_data/images'"
   ]
  },
  {
   "cell_type": "code",
   "execution_count": 6,
   "id": "66e8e2d5",
   "metadata": {},
   "outputs": [],
   "source": [
    "num_augmentations = 5"
   ]
  },
  {
   "cell_type": "code",
   "execution_count": 7,
   "id": "f0f02c55",
   "metadata": {},
   "outputs": [],
   "source": [
    "datagen = ImageDataGenerator(\n",
    "        rotation_range=20,\n",
    "        width_shift_range=0.1,\n",
    "        height_shift_range=0.1,\n",
    "        zoom_range=0.2,\n",
    "        horizontal_flip=True,\n",
    "        fill_mode='nearest')"
   ]
  },
  {
   "cell_type": "code",
   "execution_count": 9,
   "id": "de76f099",
   "metadata": {},
   "outputs": [],
   "source": [
    "for img_path in os.listdir(directory):\n",
    "    # Load the image\n",
    "    img = load_img(os.path.join(directory, img_path))\n",
    "    x = img_to_array(img)\n",
    "    x = x.reshape((1,) + x.shape)\n",
    "\n",
    "    # Generate augmented images\n",
    "    i = 0\n",
    "    for batch in datagen.flow(x, batch_size=1, save_to_dir=directory, save_prefix='augmented_', save_format='jpg'):\n",
    "        i += 1\n",
    "        if i >= num_augmentations:\n",
    "            break"
   ]
  },
  {
   "cell_type": "code",
   "execution_count": null,
   "id": "dfa2560e",
   "metadata": {},
   "outputs": [],
   "source": []
  }
 ],
 "metadata": {
  "kernelspec": {
   "display_name": "Python 3 (ipykernel)",
   "language": "python",
   "name": "python3"
  },
  "language_info": {
   "codemirror_mode": {
    "name": "ipython",
    "version": 3
   },
   "file_extension": ".py",
   "mimetype": "text/x-python",
   "name": "python",
   "nbconvert_exporter": "python",
   "pygments_lexer": "ipython3",
   "version": "3.9.1"
  }
 },
 "nbformat": 4,
 "nbformat_minor": 5
}
